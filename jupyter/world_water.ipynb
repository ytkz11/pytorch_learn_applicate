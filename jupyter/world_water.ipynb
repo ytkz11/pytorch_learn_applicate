{
 "cells": [
  {
   "cell_type": "markdown",
   "id": "aab70af9",
   "metadata": {},
   "source": [
    "import ee\n",
    "import geemap\n",
    "geemap.set_proxy(port = 56940)\n",
    "ee.Initialize()"
   ]
  },
  {
   "cell_type": "code",
   "execution_count": 8,
   "id": "8fe88f9c",
   "metadata": {},
   "outputs": [],
   "source": [
    "roi = ee.Geometry.Polygon(  [   [180, 90],\n",
    "                                [180, -90],\n",
    "                                [-180, 90],\n",
    "                                [-180 , -90]\n",
    "                            ],None,False,)\n",
    "start = ee.Date('2014-06-01')\n",
    "finish = ee.Date('2014-10-01')\n",
    "filteredCollection = ee.ImageCollection('LANDSAT/LC08/C01/T1') \\\n",
    "    .filterBounds(roi) \\\n",
    "    .filterDate(start, finish) \\\n",
    "    .filter(ee.Filter.lt(\"CLOUD_COVER\",10))\n",
    "\n",
    "mosaic = filteredCollection.mosaic()"
   ]
  },
  {
   "cell_type": "code",
   "execution_count": 15,
   "id": "1c3e031b",
   "metadata": {
    "scrolled": true
   },
   "outputs": [],
   "source": [
    "Map = geemap.Map(center=[40, -100], zoom=4)\n",
    "vizParams = {'bands': ['B5', 'B4', 'B3'],\n",
    "             'min': 5000, 'max': 15000, 'gamma': 1.3}\n",
    "Map.addLayer(mosaic, vizParams, 'Landsat 8 image',0)\n"
   ]
  },
  {
   "cell_type": "code",
   "execution_count": 16,
   "id": "7df7464c",
   "metadata": {},
   "outputs": [
    {
     "data": {
      "application/vnd.jupyter.widget-view+json": {
       "model_id": "f495ff336245471b9f7c3604aeaad28f",
       "version_major": 2,
       "version_minor": 0
      },
      "text/plain": [
       "Map(center=[40, -100], controls=(WidgetControl(options=['position', 'transparent_bg'], widget=HBox(children=(T…"
      ]
     },
     "metadata": {},
     "output_type": "display_data"
    }
   ],
   "source": [
    "first = mosaic\n",
    "wi = first.expression('(1.5*g-r-1*nir)**2/(g+nir)**2',{\n",
    "    'b':first.select('B2'),\n",
    "  'g':first.select('B3'),\n",
    "  'r':first.select('B4'),\n",
    "  'nir':first.select('B5'),\n",
    "  'swir1':first.select('B6'),\n",
    "  'swir2':first.select('B7')\n",
    "})\n",
    "vizParams2 = {'min': 0, 'max': 1, 'gamma': 1.3}\n",
    "Map.addLayer(wi, vizParams2, 'wi')\n",
    "\n",
    "palette = ['42C8F0']\n",
    "wi_mask = wi.updateMask(wi.lt(0.05))\n",
    "Map.addLayer(wi_mask, {'min': 0, 'max': 1,'palette':palette}, 'wi_mask')\n",
    "Map"
   ]
  },
  {
   "cell_type": "code",
   "execution_count": null,
   "id": "d3c85aa9",
   "metadata": {},
   "outputs": [],
   "source": []
  },
  {
   "cell_type": "code",
   "execution_count": null,
   "id": "ff88108e",
   "metadata": {},
   "outputs": [],
   "source": []
  },
  {
   "cell_type": "code",
   "execution_count": null,
   "id": "1ff82a7d",
   "metadata": {},
   "outputs": [],
   "source": []
  },
  {
   "cell_type": "code",
   "execution_count": null,
   "id": "66a83b72",
   "metadata": {},
   "outputs": [],
   "source": []
  }
 ],
 "metadata": {
  "kernelspec": {
   "display_name": "Python 3 (ipykernel)",
   "language": "python",
   "name": "python3"
  },
  "language_info": {
   "codemirror_mode": {
    "name": "ipython",
    "version": 3
   },
   "file_extension": ".py",
   "mimetype": "text/x-python",
   "name": "python",
   "nbconvert_exporter": "python",
   "pygments_lexer": "ipython3",
   "version": "3.9.1"
  }
 },
 "nbformat": 4,
 "nbformat_minor": 5
}
