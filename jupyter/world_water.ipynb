{
 "cells": [
  {
   "cell_type": "markdown",
   "id": "ccf0a167",
   "metadata": {},
   "source": [
    "import ee\n",
    "import geemap\n",
    "geemap.set_proxy(port = 56940)\n",
    "ee.Initialize()"
   ]
  },
  {
   "cell_type": "code",
   "execution_count": 25,
   "id": "5c11a932",
   "metadata": {},
   "outputs": [],
   "source": [
    "roi = ee.Geometry.Polygon(  [   [180, 90],\n",
    "                                [180, -90],\n",
    "                                \n",
    "                                [-180 , -90],[-180, 90],\n",
    "                            ],None,False,)\n",
    "start = ee.Date('2014-01-01')\n",
    "finish = ee.Date('2015-1-01')\n",
    "filteredCollection = ee.ImageCollection('LANDSAT/LC08/C01/T1') \\\n",
    "    .filterBounds(roi) \\\n",
    "    .filterDate(start, finish) \\\n",
    "    .filter(ee.Filter.lt(\"CLOUD_COVER\",20))\\\n",
    " .sort('CLOUD_COVER', True)\n",
    "   \n",
    "\n",
    "mosaic = filteredCollection.mosaic()"
   ]
  },
  {
   "cell_type": "code",
   "execution_count": 26,
   "id": "abd81660",
   "metadata": {
    "scrolled": true
   },
   "outputs": [],
   "source": [
    "#Map = geemap.Map(center=[30, 90], zoom=5)\n",
    "vizParams = {'bands': ['B5', 'B4', 'B3'],\n",
    "             'min': 5000, 'max': 15000, 'gamma': 1.3}\n",
    "Map.addLayer(mosaic, vizParams, 'Landsat 8 image',0)\n"
   ]
  },
  {
   "cell_type": "code",
   "execution_count": 27,
   "id": "bab5d039",
   "metadata": {
    "scrolled": true
   },
   "outputs": [
    {
     "data": {
      "application/vnd.jupyter.widget-view+json": {
       "model_id": "9863afea576d4bf6a50f778b1e5e1280",
       "version_major": 2,
       "version_minor": 0
      },
      "text/plain": [
       "Map(bottom=627.4000244140625, center=[-44.79042442271714, 139.7566161341464], controls=(WidgetControl(options=…"
      ]
     },
     "metadata": {},
     "output_type": "display_data"
    }
   ],
   "source": [
    "first = mosaic\n",
    "wi = first.expression('(1.5*g-r-1*nir)**2/(g+nir)**2',{\n",
    "    'b':first.select('B2'),\n",
    "  'g':first.select('B3'),\n",
    "  'r':first.select('B4'),\n",
    "  'nir':first.select('B5'),\n",
    "  'swir1':first.select('B6'),\n",
    "  'swir2':first.select('B7')\n",
    "})\n",
    "vizParams2 = {'min': 0, 'max': 1, 'gamma': 1.3}\n",
    "Map.addLayer(wi, vizParams2, 'wi')\n",
    "\n",
    "palette = ['42C8F0']\n",
    "wi_mask = wi.updateMask(wi.lt(0.055))\n",
    "Map.addLayer(wi_mask, {'min': 0, 'max': 1,'palette':palette}, 'wi_mask')\n",
    "Map"
   ]
  },
  {
   "cell_type": "code",
   "execution_count": null,
   "id": "1023f19b",
   "metadata": {},
   "outputs": [],
   "source": []
  },
  {
   "cell_type": "code",
   "execution_count": null,
   "id": "e7edc328",
   "metadata": {},
   "outputs": [],
   "source": []
  },
  {
   "cell_type": "code",
   "execution_count": null,
   "id": "89184ee1",
   "metadata": {},
   "outputs": [],
   "source": []
  },
  {
   "cell_type": "code",
   "execution_count": null,
   "id": "29afa2f5",
   "metadata": {},
   "outputs": [],
   "source": []
  }
 ],
 "metadata": {
  "kernelspec": {
   "display_name": "Python 3 (ipykernel)",
   "language": "python",
   "name": "python3"
  },
  "language_info": {
   "codemirror_mode": {
    "name": "ipython",
    "version": 3
   },
   "file_extension": ".py",
   "mimetype": "text/x-python",
   "name": "python",
   "nbconvert_exporter": "python",
   "pygments_lexer": "ipython3",
   "version": "3.9.1"
  }
 },
 "nbformat": 4,
 "nbformat_minor": 5
}
