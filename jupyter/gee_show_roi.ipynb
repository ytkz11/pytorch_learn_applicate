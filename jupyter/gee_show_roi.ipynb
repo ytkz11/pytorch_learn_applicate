{
 "cells": [
  {
   "cell_type": "code",
   "execution_count": 3,
   "id": "e17a3f49",
   "metadata": {},
   "outputs": [],
   "source": [
    "# 导入库\n",
    "import ee\n",
    "import geemap\n",
    "geemap.set_proxy(port = 56940)\n",
    "# 设置代理（没办法，gee毕竟是google的产品，科学上网之后设置代理）\n",
    "import os\n",
    "os.environ['HTTP_PROXY'] = 'http://127.0.0.1:56940'\n",
    "os.environ['HTTPS_PROXY'] = 'http://127.0.0.1:56940'\n",
    "# 初始化ee\n",
    "#ee.Authenticate()\n",
    "ee.Initialize()"
   ]
  },
  {
   "cell_type": "code",
   "execution_count": 14,
   "id": "bc7685f5",
   "metadata": {
    "scrolled": true
   },
   "outputs": [],
   "source": [
    "# 创建交互式地图\n",
    "Map = geemap.Map()\n",
    "roi = ee.Geometry.Polygon(\n",
    "                        [\n",
    "                            [\n",
    "                                [113.9808333 , 22.64833],\n",
    "                                [113.48111111, 22.64833],\n",
    "                                [113.48111111, 22.41777],\n",
    "                                [113.9808333 , 22.41777]\n",
    "                            ]\n",
    "                        ],\n",
    "                        None,\n",
    "                        False,\n",
    "                    )\n",
    "\n",
    "\n",
    "vis_param = {\n",
    "    'min': 0,\n",
    "    'max': 4000,\n",
    "    'palette': ['006633', 'E5FFCC', '662A00', 'D8D8D8', 'F5F5F5']\n",
    "}\n",
    "Map.addLayer(roi,{}, 'roi')\n",
    "Map.centerObject(roi, 8)\n",
    "Map\n",
    "\n",
    "#Map.add_landsat_ts_gif(label= 'Pucallpa, Peru', bands=['SWIR1', 'NIR', 'Red'], nd_bands=['NIR', 'Red'], nd_palette=['black', 'green'], nd_threshold=0.3, start_year=2000, start_date='01-01', end_date='12-31', frames_per_second=5)"
   ]
  }
 ],
 "metadata": {
  "kernelspec": {
   "display_name": "Python 3 (ipykernel)",
   "language": "python",
   "name": "python3"
  },
  "language_info": {
   "codemirror_mode": {
    "name": "ipython",
    "version": 3
   },
   "file_extension": ".py",
   "mimetype": "text/x-python",
   "name": "python",
   "nbconvert_exporter": "python",
   "pygments_lexer": "ipython3",
   "version": "3.9.1"
  }
 },
 "nbformat": 4,
 "nbformat_minor": 5
}
