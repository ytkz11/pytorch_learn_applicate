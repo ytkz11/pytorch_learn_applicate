{
 "cells": [
  {
   "cell_type": "code",
   "execution_count": 1,
   "id": "4d9bc4e5",
   "metadata": {},
   "outputs": [
    {
     "name": "stdout",
     "output_type": "stream",
     "text": [
      "tensor([[0., 0., 0.],\n",
      "        [0., 0., 0.]])\n",
      "tensor([2., 3., 4., 5.])\n"
     ]
    }
   ],
   "source": [
    "import torch\n",
    "a = torch.FloatTensor(2,3)\n",
    "b = torch.FloatTensor([2,3,4,5])\n",
    "print(a)\n",
    "print(b)\n",
    "\n",
    "# torch.FloatTensor的参数可以是一个列表，也可以是一个维度值用于生产数据类型为浮点型的Tensor\n",
    "# 传递给torch.FloatTensor的参数可以是一个列表，也可以是一个维度值\n"
   ]
  },
  {
   "cell_type": "code",
   "execution_count": 2,
   "id": "578abdd5",
   "metadata": {},
   "outputs": [
    {
     "name": "stdout",
     "output_type": "stream",
     "text": [
      "tensor([[0, 0, 0],\n",
      "        [0, 0, 0]], dtype=torch.int32)\n",
      "tensor([2, 3, 4, 5], dtype=torch.int32)\n"
     ]
    }
   ],
   "source": [
    "import torch\n",
    "a = torch.IntTensor(2,3)\n",
    "b = torch.IntTensor([2,3,4,5])\n",
    "print(a)\n",
    "print(b)\n",
    "\n",
    "# torch.FloatTensor的参数可以是一个列表，也可以是一个维度值用于生产数据类型为浮点型的Tensor\n",
    "# 传递给torch.FloatTensor的参数可以是一个列表，也可以是一个维度值"
   ]
  },
  {
   "cell_type": "code",
   "execution_count": 3,
   "id": "6f46d20f",
   "metadata": {},
   "outputs": [
    {
     "name": "stdout",
     "output_type": "stream",
     "text": [
      "tensor([[ 0.6176, -0.3828, -0.5033],\n",
      "        [ 0.5535, -0.0917, -0.3321]])\n"
     ]
    }
   ],
   "source": [
    "# torch.randn: 用于生产数据类型为浮点型且维度指定的随机Tensor, 和在Numpy中使用numpy.randn生成随机数的方法类似\n",
    "# 随机生成的浮点数的取值满足均值为0、方差为1的正态分布\n",
    "a = torch.randn(2,3)\n",
    "print(a)"
   ]
  },
  {
   "cell_type": "code",
   "execution_count": 10,
   "id": "f3b5dd53",
   "metadata": {},
   "outputs": [
    {
     "name": "stdout",
     "output_type": "stream",
     "text": [
      "tensor([ 1,  3,  5,  7,  9, 11, 13, 15, 17, 19])\n"
     ]
    }
   ],
   "source": [
    "a = torch.arange(1,20,2)\n",
    "print(a)\n",
    "# torch.arange是左闭右闭，即将被弃用。 \n",
    "# torch.arange是左闭右开"
   ]
  },
  {
   "cell_type": "code",
   "execution_count": null,
   "id": "2055ee56",
   "metadata": {},
   "outputs": [],
   "source": []
  }
 ],
 "metadata": {
  "kernelspec": {
   "display_name": "Python 3 (ipykernel)",
   "language": "python",
   "name": "python3"
  },
  "language_info": {
   "codemirror_mode": {
    "name": "ipython",
    "version": 3
   },
   "file_extension": ".py",
   "mimetype": "text/x-python",
   "name": "python",
   "nbconvert_exporter": "python",
   "pygments_lexer": "ipython3",
   "version": "3.9.1"
  }
 },
 "nbformat": 4,
 "nbformat_minor": 5
}
