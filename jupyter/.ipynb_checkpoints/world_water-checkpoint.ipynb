{
 "cells": [
  {
   "cell_type": "markdown",
   "id": "fa2459ef",
   "metadata": {},
   "source": [
    "import ee\n",
    "import geemap\n",
    "geemap.set_proxy(port = 56940)\n",
    "ee.Initialize()"
   ]
  },
  {
   "cell_type": "code",
   "execution_count": 8,
   "id": "5e5d4dcf",
   "metadata": {},
   "outputs": [],
   "source": [
    "roi = ee.Geometry.Polygon(  [   [180, 90],\n",
    "                                [180, -90],\n",
    "                                [-180, 90],\n",
    "                                [-180 , -90]\n",
    "                            ],None,False,)\n",
    "start = ee.Date('2014-06-01')\n",
    "finish = ee.Date('2014-10-01')\n",
    "filteredCollection = ee.ImageCollection('LANDSAT/LC08/C01/T1') \\\n",
    "    .filterBounds(roi) \\\n",
    "    .filterDate(start, finish) \\\n",
    "    .filter(ee.Filter.lt(\"CLOUD_COVER\",10))\n",
    "\n",
    "mosaic = filteredCollection.mosaic()"
   ]
  },
  {
   "cell_type": "code",
   "execution_count": 9,
   "id": "aeba3b1e",
   "metadata": {
    "scrolled": true
   },
   "outputs": [
    {
     "data": {
      "application/vnd.jupyter.widget-view+json": {
       "model_id": "22cb94c507064192bd49b7b249038fa2",
       "version_major": 2,
       "version_minor": 0
      },
      "text/plain": [
       "Map(center=[40, -100], controls=(WidgetControl(options=['position', 'transparent_bg'], widget=HBox(children=(T…"
      ]
     },
     "metadata": {},
     "output_type": "display_data"
    }
   ],
   "source": [
    "Map = geemap.Map(center=[40, -100], zoom=4)\n",
    "vizParams = {'bands': ['B5', 'B4', 'B3'],\n",
    "             'min': 5000, 'max': 15000, 'gamma': 1.3}\n",
    "Map.addLayer(mosaic, vizParams, 'Landsat 8 image')\n"
   ]
  },
  {
   "cell_type": "code",
   "execution_count": 10,
   "id": "0cfac4fe",
   "metadata": {},
   "outputs": [],
   "source": [
    "first = mosaic\n",
    "wi = first.expression('(1.75*g-r-1.08*nir)**2/(g+nir)**2',{\n",
    "    'b':first.select('B2'),\n",
    "  'g':first.select('B3'),\n",
    "  'r':first.select('B4'),\n",
    "  'nir':first.select('B5'),\n",
    "  'swir1':first.select('B6'),\n",
    "  'swir2':first.select('B7')\n",
    "})\n",
    "vizParams2 = {'min': 0, 'max': 1, 'gamma': 1.3}\n",
    "Map.addLayer(wi, vizParams2, 'wi')"
   ]
  },
  {
   "cell_type": "code",
   "execution_count": 12,
   "id": "ccaee375",
   "metadata": {},
   "outputs": [],
   "source": [
    "palette = ['42C8F0']\n",
    "wi_mask = wi.updateMask(wi.lt(0.05))\n",
    "Map.addLayer(wi_mask, {'min': 0, 'max': 1,'palette':palette}, 'wi_mask')\n",
    "Map"
   ]
  },
  {
   "cell_type": "code",
   "execution_count": null,
   "id": "8a66720f",
   "metadata": {},
   "outputs": [],
   "source": []
  },
  {
   "cell_type": "code",
   "execution_count": null,
   "id": "1ffc80de",
   "metadata": {},
   "outputs": [],
   "source": []
  },
  {
   "cell_type": "code",
   "execution_count": null,
   "id": "6525a7b0",
   "metadata": {},
   "outputs": [],
   "source": []
  },
  {
   "cell_type": "code",
   "execution_count": null,
   "id": "62d60859",
   "metadata": {},
   "outputs": [],
   "source": []
  }
 ],
 "metadata": {
  "kernelspec": {
   "display_name": "Python 3 (ipykernel)",
   "language": "python",
   "name": "python3"
  },
  "language_info": {
   "codemirror_mode": {
    "name": "ipython",
    "version": 3
   },
   "file_extension": ".py",
   "mimetype": "text/x-python",
   "name": "python",
   "nbconvert_exporter": "python",
   "pygments_lexer": "ipython3",
   "version": "3.9.1"
  }
 },
 "nbformat": 4,
 "nbformat_minor": 5
}
