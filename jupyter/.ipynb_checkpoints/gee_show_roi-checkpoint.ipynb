{
 "cells": [
  {
   "cell_type": "code",
   "execution_count": 3,
   "id": "e17a3f49",
   "metadata": {},
   "outputs": [],
   "source": [
    "# 导入库\n",
    "import ee\n",
    "import geemap\n",
    "geemap.set_proxy(port = 56940)\n",
    "# 设置代理（没办法，gee毕竟是google的产品，科学上网之后设置代理）\n",
    "import os\n",
    "os.environ['HTTP_PROXY'] = 'http://127.0.0.1:56940'\n",
    "os.environ['HTTPS_PROXY'] = 'http://127.0.0.1:56940'\n",
    "# 初始化ee\n",
    "#ee.Authenticate()\n",
    "ee.Initialize()"
   ]
  },
  {
   "cell_type": "code",
   "execution_count": 10,
   "id": "bc7685f5",
   "metadata": {
    "scrolled": true
   },
   "outputs": [],
   "source": [
    "# 创建交互式地图\n",
    "Map = geemap.Map()\n",
    "roi = ee.Geometry.Polygon(\n",
    "                        [\n",
    "                            [\n",
    "                                [113.9808333 , 23.64833],\n",
    "                                [113.48111111, 23.64833],\n",
    "                                [113.48111111, 23.41777],\n",
    "                                [113.9808333 , 23.41777]\n",
    "                            ]\n",
    "                        ],\n",
    "                        None,\n",
    "                        False,\n",
    "                    )\n"
   ]
  },
  {
   "cell_type": "code",
   "execution_count": 11,
   "id": "66118a95",
   "metadata": {},
   "outputs": [
    {
     "data": {
      "application/vnd.jupyter.widget-view+json": {
       "model_id": "99cea06504124e8788e67b20b7342e98",
       "version_major": 2,
       "version_minor": 0
      },
      "text/plain": [
       "Map(center=[29.895799153871206, 113.7309722049998], controls=(WidgetControl(options=['position', 'transparent_…"
      ]
     },
     "metadata": {},
     "output_type": "display_data"
    }
   ],
   "source": [
    "vis_param = {\n",
    "    'min': 0,\n",
    "    'max': 4000,\n",
    "    'palette': ['006633', 'E5FFCC', '662A00', 'D8D8D8', 'F5F5F5']\n",
    "}\n",
    "Map.addLayer(roi,{}, 'roi')\n",
    "Map.centerObject(roi, 8)\n",
    "Map\n",
    "\n"
   ]
  },
  {
   "cell_type": "code",
   "execution_count": 8,
   "id": "1def6b0e",
   "metadata": {
    "scrolled": true
   },
   "outputs": [
    {
     "data": {
      "application/vnd.jupyter.widget-view+json": {
       "model_id": "435cc00482a74f55bfbb180649c634b8",
       "version_major": 2,
       "version_minor": 0
      },
      "text/plain": [
       "Map(center=[20, 0], controls=(WidgetControl(options=['position', 'transparent_bg'], widget=HBox(children=(Togg…"
      ]
     },
     "metadata": {},
     "output_type": "display_data"
    }
   ],
   "source": []
  },
  {
   "cell_type": "code",
   "execution_count": 9,
   "id": "55de264b",
   "metadata": {
    "scrolled": true
   },
   "outputs": [],
   "source": [
    "#Map.add_landsat_ts_gif(label= 'Pucallpa, Peru', bands=['SWIR1', 'NIR', 'Red'], nd_bands=['NIR', 'Red'], nd_palette=['black', 'green'], nd_threshold=0.3, start_year=2000, start_date='01-01', end_date='12-31', frames_per_second=5)\n"
   ]
  },
  {
   "cell_type": "code",
   "execution_count": 2,
   "id": "7a09b7be",
   "metadata": {},
   "outputs": [
    {
     "ename": "NameError",
     "evalue": "name 'ee' is not defined",
     "output_type": "error",
     "traceback": [
      "\u001b[1;31m---------------------------------------------------------------------------\u001b[0m",
      "\u001b[1;31mNameError\u001b[0m                                 Traceback (most recent call last)",
      "Input \u001b[1;32mIn [2]\u001b[0m, in \u001b[0;36m<cell line: 1>\u001b[1;34m()\u001b[0m\n\u001b[1;32m----> 1\u001b[0m roi \u001b[38;5;241m=\u001b[39m \u001b[43mee\u001b[49m\u001b[38;5;241m.\u001b[39mGeometry\u001b[38;5;241m.\u001b[39mPolygon(\n\u001b[0;32m      2\u001b[0m                         [\n\u001b[0;32m      3\u001b[0m                             [\n\u001b[0;32m      4\u001b[0m                                 [\u001b[38;5;241m-\u001b[39m\u001b[38;5;241m115.471773\u001b[39m, \u001b[38;5;241m35.892718\u001b[39m],\n\u001b[0;32m      5\u001b[0m                                 [\u001b[38;5;241m-\u001b[39m\u001b[38;5;241m115.471773\u001b[39m, \u001b[38;5;241m36.409454\u001b[39m],\n\u001b[0;32m      6\u001b[0m                                 [\u001b[38;5;241m-\u001b[39m\u001b[38;5;241m114.271283\u001b[39m, \u001b[38;5;241m36.409454\u001b[39m],\n\u001b[0;32m      7\u001b[0m                                 [\u001b[38;5;241m-\u001b[39m\u001b[38;5;241m114.271283\u001b[39m, \u001b[38;5;241m35.892718\u001b[39m],\n\u001b[0;32m      8\u001b[0m                                 [\u001b[38;5;241m-\u001b[39m\u001b[38;5;241m115.471773\u001b[39m, \u001b[38;5;241m35.892718\u001b[39m],\n\u001b[0;32m      9\u001b[0m                             ]\n\u001b[0;32m     10\u001b[0m                         ],\n\u001b[0;32m     11\u001b[0m                         \u001b[38;5;28;01mNone\u001b[39;00m,\n\u001b[0;32m     12\u001b[0m                         \u001b[38;5;28;01mFalse\u001b[39;00m,\n\u001b[0;32m     13\u001b[0m                     )\n\u001b[0;32m     14\u001b[0m Map\u001b[38;5;241m.\u001b[39maddLayer(roi, \u001b[38;5;124m'\u001b[39m\u001b[38;5;124mroi\u001b[39m\u001b[38;5;124m'\u001b[39m)\n",
      "\u001b[1;31mNameError\u001b[0m: name 'ee' is not defined"
     ]
    }
   ],
   "source": []
  }
 ],
 "metadata": {
  "kernelspec": {
   "display_name": "Python 3 (ipykernel)",
   "language": "python",
   "name": "python3"
  },
  "language_info": {
   "codemirror_mode": {
    "name": "ipython",
    "version": 3
   },
   "file_extension": ".py",
   "mimetype": "text/x-python",
   "name": "python",
   "nbconvert_exporter": "python",
   "pygments_lexer": "ipython3",
   "version": "3.9.1"
  }
 },
 "nbformat": 4,
 "nbformat_minor": 5
}
