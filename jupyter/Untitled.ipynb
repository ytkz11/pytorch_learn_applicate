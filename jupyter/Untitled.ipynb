{
 "cells": [
  {
   "cell_type": "code",
   "execution_count": 1,
   "id": "0a6144ab",
   "metadata": {},
   "outputs": [],
   "source": [
    "import ee\n",
    "import geemap\n"
   ]
  },
  {
   "cell_type": "code",
   "execution_count": 4,
   "id": "ff4a0c58",
   "metadata": {},
   "outputs": [
    {
     "data": {
      "application/vnd.jupyter.widget-view+json": {
       "model_id": "298e218ec90d43d3a66c559a3022f13a",
       "version_major": 2,
       "version_minor": 0
      },
      "text/plain": [
       "HBox(children=(VBox(), VBox()))"
      ]
     },
     "metadata": {},
     "output_type": "display_data"
    },
    {
     "data": {
      "application/javascript": [
       "\n",
       "        var code = IPython.notebook.insert_cell_below('code');\n",
       "        code.set_text(atob(\"aW1wb3J0IGVlIAppbXBvcnQgZ2VlbWFwCgojIENyZWF0ZSBhIG1hcCBjZW50ZXJlZCBhdCAobGF0LCBsb24pLgpNYXAgPSBnZWVtYXAuTWFwKGNlbnRlcj1bNDAsIC0xMDBdLCB6b29tPTQpCgojIENlbnRlci1waXZvdCBJcnJpZ2F0aW9uIERldGVjdG9yLgojCiMgRmluZHMgY2lyY2xlcyB0aGF0IGFyZSA1MDBtIGluIHJhZGl1cy4KTWFwLnNldENlbnRlcigtMTA2LjA2LCAzNy43MSwgMTIpCgojIEEgbmljZSBORFZJIHBhbGV0dGUuCnBhbGV0dGUgPSBbCiAgJ0ZGRkZGRicsICdDRTdFNDUnLCAnREY5MjNEJywgJ0YxQjU1NScsICdGQ0QxNjMnLCAnOTlCNzE4JywKICAnNzRBOTAxJywgJzY2QTAwMCcsICc1Mjk0MDAnLCAnM0U4NjAxJywgJzIwNzQwMScsICcwNTYyMDEnLAogICcwMDRDMDAnLCAnMDIzQjAxJywgJzAxMkUwMScsICcwMTFEMDEnLCAnMDExMzAxJ10KCiMgSnVzdCBkaXNwbGF5IHRoZSBpbWFnZSB3aXRoIHRoZSBwYWxldHRlLgppbWFnZSA9IGVlLkltYWdlKCdMQU5EU0FUL0xDMDgvQzAxL1QxX1RPQS9MQzA4XzAzNDAzNF8yMDE3MDYwOCcpCm5kdmkgPSBpbWFnZS5ub3JtYWxpemVkRGlmZmVyZW5jZShbJ0I1JywnQjQnXSkKCk1hcC5hZGRMYXllcihuZHZpLCB7J21pbic6IDAsICdtYXgnOiAxLCAncGFsZXR0ZSc6IHBhbGV0dGV9LCAnTGFuZHNhdCBORFZJJykKCiMgRmluZCB0aGUgZGlmZmVyZW5jZSBiZXR3ZWVuIGNvbnZvbHV0aW9uIHdpdGggY2lyY2xlcyBhbmQgc3F1YXJlcy4KIyBUaGlzIGRpZmZlcmVuY2UsIGluIHRoZW9yeSwgd2lsbCBiZSBzdHJvbmdlc3QgYXQgdGhlIGNlbnRlciBvZgojIGNpcmNsZXMgaW4gdGhlIGltYWdlLiBUaGlzIHJlZ2lvbiBpcyBmaWxsZWQgd2l0aCBjaXJjdWxhciBmYXJtcwojIHdpdGggcmFkaWkgb24gdGhlIG9yZGVyIG9mIDUwMG0uCmZhcm1TaXplID0gNTAwICAjIFJhZGl1cyBvZiBhIGZhcm0sIGluIG1ldGVycy4KY2lyY2xlS2VybmVsID0gZWUuS2VybmVsLmNpcmNsZShmYXJtU2l6ZSwgJ21ldGVycycpCnNxdWFyZUtlcm5lbCA9IGVlLktlcm5lbC5zcXVhcmUoZmFybVNpemUsICdtZXRlcnMnKQpjaXJjbGVzID0gbmR2aS5jb252b2x2ZShjaXJjbGVLZXJuZWwpCnNxdWFyZXMgPSBuZHZpLmNvbnZvbHZlKHNxdWFyZUtlcm5lbCkKZGlmZiA9IGNpcmNsZXMuc3VidHJhY3Qoc3F1YXJlcykKCiMgU2NhbGUgYnkgMTAwIGFuZCBmaW5kIHRoZSBiZXN0IGZpdHRpbmcgcGl4ZWwgaW4gZWFjaCBuZWlnaGJvcmhvb2QuCmRpZmYgPSBkaWZmLmFicygpLm11bHRpcGx5KDEwMCkudG9CeXRlKCkKbWF4ID0gZGlmZi5mb2NhbF9tYXgoKip7J3JhZGl1cyc6IGZhcm1TaXplICogMS44LCAndW5pdHMnOiAnbWV0ZXJzJ30pCiMgSWYgYSBwaXhlbCBpc24ndCB0aGUgbG9jYWwgbWF4LCBzZXQgaXQgdG8gMC4KbG9jYWwgPSBkaWZmLndoZXJlKGRpZmYubmVxKG1heCksIDApCnRocmVzaCA9IGxvY2FsLmd0KDIpCgojIEhlcmUsIHdlIGhpZ2hsaWdodCB0aGUgbWF4aW11bSBkaWZmZXJlbmNlcyBhcyAiS2VybmVsIFBlYWtzIgojIGFuZCBkcmF3IHRoZW0gaW4gcmVkLgpwZWFrcyA9IHRocmVzaC5mb2NhbF9tYXgoKip7J2tlcm5lbCc6IGNpcmNsZUtlcm5lbH0pCk1hcC5hZGRMYXllcihwZWFrcy51cGRhdGVNYXNrKHBlYWtzKSwgeydwYWxldHRlJzogJ0ZGMzczNyd9LCAnS2VybmVsIFBlYWtzJykKCiMgRGV0ZWN0IHRoZSBlZGdlcyBvZiB0aGUgZmVhdHVyZXMuICBEaXNjYXJkIHRoZSBlZGdlcyB3aXRoIGxvd2VyIGludGVuc2l0eS4KY2FubnkgPSBlZS5BbGdvcml0aG1zLkNhbm55RWRnZURldGVjdG9yKG5kdmksIDApCmNhbm55ID0gY2FubnkuZ3QoMC4zKQoKIyBDcmVhdGUgYSAicmluZyIga2VybmVsIGZyb20gdHdvIGNpcmN1bGFyIGtlcm5lbHMuCmlubmVyID0gZWUuS2VybmVsLmNpcmNsZShmYXJtU2l6ZSAtIDIwLCAnbWV0ZXJzJywgRmFsc2UsIC0xKQpvdXRlciA9IGVlLktlcm5lbC5jaXJjbGUoZmFybVNpemUgKyAyMCwgJ21ldGVycycsIEZhbHNlLCAxKQpyaW5nID0gb3V0ZXIuYWRkKGlubmVyLCBUcnVlKQoKIyBIaWdobGlnaHQgdGhlIHBsYWNlcyB3aGVyZSB0aGUgZmVhdHVyZSBlZGdlcyBiZXN0IG1hdGNoIHRoZSBjaXJjbGUga2VybmVsLgpjZW50ZXJzID0gY2FubnkuY29udm9sdmUocmluZykuZ3QoMC41KS5mb2NhbF9tYXgoeydrZXJuZWwnOiBjaXJjbGVLZXJuZWx9KQpNYXAuYWRkTGF5ZXIoY2VudGVycy51cGRhdGVNYXNrKGNlbnRlcnMpLCB7J3BhbGV0dGUnOiAnNDI4NUZGJ30sICdSaW5nIGNlbnRlcnMnKQoKIyBEaXNwbGF5IHRoZSBtYXAuCk1hcAo=\"));\n",
       "    "
      ],
      "text/plain": [
       "<IPython.core.display.Javascript object>"
      ]
     },
     "metadata": {},
     "output_type": "display_data"
    },
    {
     "data": {
      "application/javascript": [
       "\n",
       "        var code = IPython.notebook.insert_cell_below('code');\n",
       "        code.set_text(atob(\"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\"));\n",
       "    "
      ],
      "text/plain": [
       "<IPython.core.display.Javascript object>"
      ]
     },
     "metadata": {},
     "output_type": "display_data"
    }
   ],
   "source": [
    "geemap.set_proxy(port = 56940)\n",
    "ee.Initialize()\n",
    "geemap.ee_search()"
   ]
  },
  {
   "cell_type": "code",
   "execution_count": null,
   "id": "eab78ec8",
   "metadata": {},
   "outputs": [],
   "source": [
    "\n",
    "\n",
    "\n",
    "Map = geemap.Map(center=[40, -100], zoom=4)\n",
    "\n",
    "# Center-pivot Irrigation Detector.\n",
    "#\n",
    "# Finds circles that are 500m in radius.\n",
    "Map.setCenter(-106.06, 37.71, 12)\n",
    "Map = geemap.Map()\n",
    "\n",
    "# A nice NDVI palette.\n",
    "palette = [\n",
    "  'FFFFFF', 'CE7E45', 'DF923D', 'F1B555', 'FCD163', '99B718',\n",
    "  '74A901', '66A000', '529400', '3E8601', '207401', '056201',\n",
    "  '004C00', '023B01', '012E01', '011D01', '011301']\n",
    "\n",
    "# Just display the image with the palette.\n",
    "image = ee.Image('LANDSAT/LC08/C01/T1_TOA/LC08_034034_20170608')\n",
    "ndvi = image.normalizedDifference(['B5','B4'])\n",
    "\n",
    "Map.addLayer(ndvi, {'min': 0, 'max': 1, 'palette': palette}, 'Landsat NDVI')\n",
    "Map.centerObject(ndvi, 8)\n",
    "Map\n",
    "\n",
    "# Find the difference between convolution with circles and squares.\n",
    "# This difference, in theory, will be strongest at the center of\n",
    "# circles in the image. This region is filled with circular farms\n",
    "# with radii on the order of 500m.\n"
   ]
  },
  {
   "cell_type": "code",
   "execution_count": 12,
   "id": "a553747c",
   "metadata": {},
   "outputs": [],
   "source": []
  }
 ],
 "metadata": {
  "kernelspec": {
   "display_name": "Python 3 (ipykernel)",
   "language": "python",
   "name": "python3"
  },
  "language_info": {
   "codemirror_mode": {
    "name": "ipython",
    "version": 3
   },
   "file_extension": ".py",
   "mimetype": "text/x-python",
   "name": "python",
   "nbconvert_exporter": "python",
   "pygments_lexer": "ipython3",
   "version": "3.9.1"
  }
 },
 "nbformat": 4,
 "nbformat_minor": 5
}
