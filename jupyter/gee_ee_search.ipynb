{
 "cells": [
  {
   "cell_type": "code",
   "execution_count": 1,
   "id": "0a6144ab",
   "metadata": {},
   "outputs": [
    {
     "data": {
      "application/vnd.jupyter.widget-view+json": {
       "model_id": "7bbc1b07fdae4fc9be24f6bf1fca09be",
       "version_major": 2,
       "version_minor": 0
      },
      "text/plain": [
       "HBox(children=(VBox(), VBox()))"
      ]
     },
     "metadata": {},
     "output_type": "display_data"
    }
   ],
   "source": [
    "import ee\n",
    "import geemap\n",
    "\n",
    "\n",
    "geemap.set_proxy(port = 56940)\n",
    "ee.Initialize()\n",
    "geemap.ee_search()"
   ]
  },
  {
   "cell_type": "code",
   "execution_count": null,
   "id": "eab78ec8",
   "metadata": {},
   "outputs": [],
   "source": [
    "\n",
    "\n",
    "\n",
    "Map = geemap.Map(center=[40, -100], zoom=4)\n",
    "\n",
    "# Center-pivot Irrigation Detector.\n",
    "#\n",
    "# Finds circles that are 500m in radius.\n",
    "Map.setCenter(-106.06, 37.71, 12)\n",
    "Map = geemap.Map()\n",
    "\n",
    "# A nice NDVI palette.\n",
    "palette = [\n",
    "  'FFFFFF', 'CE7E45', 'DF923D', 'F1B555', 'FCD163', '99B718',\n",
    "  '74A901', '66A000', '529400', '3E8601', '207401', '056201',\n",
    "  '004C00', '023B01', '012E01', '011D01', '011301']\n",
    "\n",
    "# Just display the image with the palette.\n",
    "image = ee.Image('LANDSAT/LC08/C01/T1_TOA/LC08_034034_20170608')\n",
    "ndvi = image.normalizedDifference(['B5','B4'])\n",
    "\n",
    "Map.addLayer(ndvi, {'min': 0, 'max': 1, 'palette': palette}, 'Landsat NDVI')\n",
    "Map.centerObject(ndvi, 8)\n",
    "Map\n",
    "\n",
    "# Find the difference between convolution with circles and squares.\n",
    "# This difference, in theory, will be strongest at the center of\n",
    "# circles in the image. This region is filled with circular farms\n",
    "# with radii on the order of 500m.\n"
   ]
  },
  {
   "cell_type": "code",
   "execution_count": 12,
   "id": "a553747c",
   "metadata": {},
   "outputs": [],
   "source": []
  }
 ],
 "metadata": {
  "kernelspec": {
   "display_name": "Python 3 (ipykernel)",
   "language": "python",
   "name": "python3"
  },
  "language_info": {
   "codemirror_mode": {
    "name": "ipython",
    "version": 3
   },
   "file_extension": ".py",
   "mimetype": "text/x-python",
   "name": "python",
   "nbconvert_exporter": "python",
   "pygments_lexer": "ipython3",
   "version": "3.9.1"
  }
 },
 "nbformat": 4,
 "nbformat_minor": 5
}
