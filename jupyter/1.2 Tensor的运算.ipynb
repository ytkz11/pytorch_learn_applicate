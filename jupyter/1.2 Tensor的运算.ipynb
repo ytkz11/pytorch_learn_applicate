{
 "cells": [
  {
   "cell_type": "code",
   "execution_count": 1,
   "id": "940ab4ca",
   "metadata": {},
   "outputs": [
    {
     "name": "stdout",
     "output_type": "stream",
     "text": [
      "tensor([[-0.8527, -0.9120,  3.4063],\n",
      "        [-1.2442, -1.5175,  0.5093]])\n",
      "tensor([[0.8527, 0.9120, 3.4063],\n",
      "        [1.2442, 1.5175, 0.5093]])\n"
     ]
    }
   ],
   "source": [
    "# 绝对值\n",
    "import torch\n",
    "a = torch.randn(2,3)\n",
    "print(a)\n",
    "\n",
    "b = torch.abs(a)\n",
    "print(b)"
   ]
  },
  {
   "cell_type": "code",
   "execution_count": 4,
   "id": "3436fedd",
   "metadata": {},
   "outputs": [
    {
     "name": "stdout",
     "output_type": "stream",
     "text": [
      "tensor([[ 0.0038,  0.4970, -0.1219],\n",
      "        [-0.4175,  1.1976, -1.9916]])\n",
      "tensor([[ 0.4454,  0.6767, -0.3256],\n",
      "        [ 0.4690,  0.4255,  0.4370]])\n",
      "tensor([[ 0.4492,  1.1737, -0.4475],\n",
      "        [ 0.0514,  1.6231, -1.5547]])\n",
      "tensor([[ 0.4771,  1.6389,  1.7767],\n",
      "        [-0.1258,  0.1873, -0.3471]])\n",
      "tensor([[10.4771, 11.6389, 11.7767],\n",
      "        [ 9.8742, 10.1873,  9.6529]])\n"
     ]
    }
   ],
   "source": [
    "a = torch.randn(2,3)\n",
    "print(a)\n",
    "\n",
    "b = torch.randn(2,3)\n",
    "print(b)\n",
    "\n",
    "c = torch.add(a, b)\n",
    "print(c)\n",
    "\n",
    "d =  torch.randn(2,3)\n",
    "print(d)\n",
    "\n",
    "e =  torch.add(d,10)\n",
    "print(e)"
   ]
  },
  {
   "cell_type": "code",
   "execution_count": 5,
   "id": "9731045c",
   "metadata": {},
   "outputs": [
    {
     "name": "stdout",
     "output_type": "stream",
     "text": [
      "tensor([[ 1.5234,  0.5582, -1.2324],\n",
      "        [ 0.2521, -0.6549, -0.7131]])\n",
      "tensor([[ 0.1000,  0.1000, -0.1000],\n",
      "        [ 0.1000, -0.1000, -0.1000]])\n"
     ]
    }
   ],
   "source": [
    "# 裁剪\n",
    "a = torch.randn(2,3)\n",
    "print(a)\n",
    "\n",
    "b = torch.clamp(a, -0.1,0.1)\n",
    "print(b)"
   ]
  },
  {
   "cell_type": "code",
   "execution_count": 6,
   "id": "d9a81ffd",
   "metadata": {},
   "outputs": [
    {
     "name": "stdout",
     "output_type": "stream",
     "text": [
      "tensor([[ 0.0779,  0.9835, -0.2625],\n",
      "        [ 0.1043,  0.4858,  1.8302]])\n",
      "tensor([[ 0.0136,  1.0331,  0.2953],\n",
      "        [-2.8330, -0.7799,  0.2948]])\n",
      "tensor([[ 5.7277,  0.9519, -0.8888],\n",
      "        [-0.0368, -0.6229,  6.2090]])\n",
      "tensor([[ 0.9158, -0.1871, -0.3211],\n",
      "        [ 0.5732,  0.8233, -1.6958]])\n",
      "tensor([[ 0.0916, -0.0187, -0.0321],\n",
      "        [ 0.0573,  0.0823, -0.1696]])\n"
     ]
    }
   ],
   "source": [
    "# 求商\n",
    "a = torch.randn(2,3)\n",
    "print(a)\n",
    "\n",
    "b = torch.randn(2,3)\n",
    "print(b)\n",
    "\n",
    "c = torch.div(a, b)\n",
    "print(c)\n",
    "\n",
    "d =  torch.randn(2,3)\n",
    "print(d)\n",
    "\n",
    "e =  torch.div(d,10)\n",
    "print(e)"
   ]
  },
  {
   "cell_type": "code",
   "execution_count": 7,
   "id": "574e2938",
   "metadata": {},
   "outputs": [
    {
     "name": "stdout",
     "output_type": "stream",
     "text": [
      "tensor([[ 0.4582,  0.4275, -0.4944],\n",
      "        [ 1.1270,  0.3131,  0.6615]])\n",
      "tensor([[-0.5140,  0.0857, -0.4962],\n",
      "        [-1.2468,  0.3686,  0.8843]])\n",
      "tensor([[-0.2355,  0.0366,  0.2453],\n",
      "        [-1.4051,  0.1154,  0.5849]])\n",
      "tensor([[ 0.3066,  2.0119,  2.6735],\n",
      "        [ 0.3529, -0.2756,  0.4393]])\n",
      "tensor([[ 3.0660, 20.1191, 26.7352],\n",
      "        [ 3.5291, -2.7564,  4.3926]])\n"
     ]
    }
   ],
   "source": [
    "# 求积\n",
    "a = torch.randn(2,3)\n",
    "print(a)\n",
    "\n",
    "b = torch.randn(2,3)\n",
    "print(b)\n",
    "\n",
    "c = torch.mul(a, b)\n",
    "print(c)\n",
    "\n",
    "d =  torch.randn(2,3)\n",
    "print(d)\n",
    "\n",
    "e =  torch.mul(d,10)\n",
    "print(e)"
   ]
  },
  {
   "cell_type": "code",
   "execution_count": 11,
   "id": "4f30cab3",
   "metadata": {},
   "outputs": [
    {
     "name": "stdout",
     "output_type": "stream",
     "text": [
      "tensor([[-0.3957,  1.4506, -1.3652],\n",
      "        [-0.0623, -0.8942,  1.5753]])\n",
      "tensor([[0.1566, 2.1041, 1.8639],\n",
      "        [0.0039, 0.7996, 2.4815]])\n"
     ]
    }
   ],
   "source": [
    "# 求幂\n",
    "a = torch.randn(2,3)\n",
    "print(a)\n",
    "\n",
    "b = torch.pow(a,2)\n",
    "print(b)"
   ]
  },
  {
   "cell_type": "code",
   "execution_count": 13,
   "id": "a6ffbd32",
   "metadata": {},
   "outputs": [
    {
     "name": "stdout",
     "output_type": "stream",
     "text": [
      "tensor([[ 0.9616,  1.2792,  0.6331],\n",
      "        [ 1.0210, -1.2816, -1.1806]])\n",
      "tensor([[ 1.0099, -0.0295],\n",
      "        [ 0.0230,  0.2653],\n",
      "        [-0.8106,  0.5378]])\n",
      "tensor([[ 0.4874,  0.6514],\n",
      "        [ 1.9586, -1.0050]])\n"
     ]
    }
   ],
   "source": [
    "# 矩阵相乘\n",
    "\n",
    "a = torch.randn(2,3)\n",
    "print(a)\n",
    "\n",
    "b = torch.randn(3,2)\n",
    "print(b)\n",
    "\n",
    "c = torch.mm(a, b)\n",
    "print(c)"
   ]
  },
  {
   "cell_type": "code",
   "execution_count": null,
   "id": "9ef20598",
   "metadata": {},
   "outputs": [],
   "source": [
    "\n",
    "\n",
    "\n",
    "\n",
    "# 求积\n",
    "# 被传入的参数中的第一个参数代表矩阵\n",
    "# 第二个参数代表向量\n",
    "a = torch.randn(2,3)\n",
    "print(a)\n",
    "\n",
    "b = torch.randn(3)\n",
    "print(b)\n",
    "\n",
    "c = torch.mv(a, b)\n",
    "print(c)"
   ]
  },
  {
   "cell_type": "code",
   "execution_count": null,
   "id": "2683b9c5",
   "metadata": {},
   "outputs": [],
   "source": []
  },
  {
   "cell_type": "code",
   "execution_count": null,
   "id": "3c6b0cc4",
   "metadata": {},
   "outputs": [],
   "source": []
  }
 ],
 "metadata": {
  "kernelspec": {
   "display_name": "Python 3 (ipykernel)",
   "language": "python",
   "name": "python3"
  },
  "language_info": {
   "codemirror_mode": {
    "name": "ipython",
    "version": 3
   },
   "file_extension": ".py",
   "mimetype": "text/x-python",
   "name": "python",
   "nbconvert_exporter": "python",
   "pygments_lexer": "ipython3",
   "version": "3.9.1"
  }
 },
 "nbformat": 4,
 "nbformat_minor": 5
}
