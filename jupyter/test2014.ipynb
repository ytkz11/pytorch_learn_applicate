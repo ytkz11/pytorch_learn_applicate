{
 "cells": [
  {
   "cell_type": "code",
   "execution_count": 2,
   "id": "7b5b34c3",
   "metadata": {},
   "outputs": [],
   "source": [
    "import ee\n",
    "import geemap\n",
    "geemap.set_proxy(port = 56940)\n",
    "# ee.Authenticate()\n",
    "ee.Initialize()\n",
    "# Create a map centered at (lat, lon).\n",
    "Map = geemap.Map(center=[40, -100], zoom=4)"
   ]
  },
  {
   "cell_type": "code",
   "execution_count": 3,
   "id": "a73401ec",
   "metadata": {},
   "outputs": [],
   "source": [
    "import ee\n",
    "import geemap\n",
    "geemap.set_proxy(port = 56940)\n",
    "ee.Initialize()\n",
    "# Create a map centered at (lat, lon).\n",
    "roi = ee.Geometry.Polygon(  [   [180, 90],\n",
    "                                [180, -90],\n",
    "                                \n",
    "                                [-180 , -90],[-180, 90],\n",
    "                            ],None,False,)\n",
    "start = ee.Date('2014-01-01')\n",
    "finish = ee.Date('2015-1-01')\n",
    "filteredCollection = ee.ImageCollection('LANDSAT/LC08/C01/T1') \\\n",
    "    .filterBounds(roi) \\\n",
    "    .filterDate(start, finish) \\\n",
    "    .filter(ee.Filter.lt(\"CLOUD_COVER\",20))\\\n",
    " .sort('CLOUD_COVER', True)\n",
    "   \n",
    "\n",
    "mosaic = filteredCollection.mosaic()\n",
    "\n",
    "#Map = geemap.Map(center=[30, 90], zoom=5)\n",
    "vizParams = {'bands': ['B5', 'B4', 'B3'],\n",
    "             'min': 5000, 'max': 15000, 'gamma': 1.3}\n",
    "\n"
   ]
  },
  {
   "cell_type": "code",
   "execution_count": 4,
   "id": "a593fef3",
   "metadata": {
    "scrolled": false
   },
   "outputs": [
    {
     "data": {
      "application/vnd.jupyter.widget-view+json": {
       "model_id": "83cfeb8af2b344c4b7d9f2c75885f467",
       "version_major": 2,
       "version_minor": 0
      },
      "text/plain": [
       "Map(center=[40, -100], controls=(WidgetControl(options=['position', 'transparent_bg'], widget=HBox(children=(T…"
      ]
     },
     "metadata": {},
     "output_type": "display_data"
    }
   ],
   "source": [
    "\n",
    "\n",
    "# Display the map.\n",
    "Map\n",
    "first = mosaic\n",
    "\n",
    "#wi = first.expression('(3*g-1*b+2*r-5*nir-swir2)/(3*g+1*b+2*r+5*nir)',{\n",
    "wi = first.expression('(g-0.5*b-0.5*r-nir)**2/(g+0.5*b+0.5*r+nir)**2',{\n",
    "    'b':first.select('B2'),\n",
    "  'g':first.select('B3'),\n",
    "  'r':first.select('B4'),\n",
    "  'nir':first.select('B5'),\n",
    "  'swir1':first.select('B6'),\n",
    "  'swir2':first.select('B7')\n",
    "})\n",
    "vizParams2 = {'min': -1, 'max': 1, 'gamma': 1.3}\n",
    "#vizParams2 = {}\n",
    "Map.addLayer(wi, vizParams2, 'wi')\n",
    "Map.addLayer(mosaic, vizParams, 'Landsat 8 image',1)\n",
    "palette = ['42C8F0']\n",
    "\n",
    "Map\n"
   ]
  },
  {
   "cell_type": "code",
   "execution_count": 80,
   "id": "9900ef07",
   "metadata": {},
   "outputs": [],
   "source": [
    "wi_mask = wi.updateMask(wi.lt(0.11))  #lt\n",
    "Map.addLayer(wi_mask, {'min': 0, 'max': 1,'palette':palette}, 'wi_mask')"
   ]
  },
  {
   "cell_type": "code",
   "execution_count": 5,
   "id": "43dc6aa1",
   "metadata": {},
   "outputs": [],
   "source": [
    "NDWI = first.expression('(g-nir)/(g+nir)',{\n",
    "    'b':first.select('B2'),\n",
    "  'g':first.select('B3'),\n",
    "  'r':first.select('B4'),\n",
    "  'nir':first.select('B5'),\n",
    "  'swir1':first.select('B6'),\n",
    "  'swir2':first.select('B7')\n",
    "})\n",
    "Map.addLayer(NDWI, vizParams2, 'NDWI')\n",
    "NDWI_mask = wi.updateMask(NDWI.gt(0))  #lt\n",
    "Map.addLayer(NDWI_mask, {'min': 0, 'max': 1,'palette':palette}, 'NDWI_mask')"
   ]
  },
  {
   "cell_type": "code",
   "execution_count": 6,
   "id": "ba081977",
   "metadata": {},
   "outputs": [
    {
     "ename": "AttributeError",
     "evalue": "'Map' object has no attribute 'clear'",
     "output_type": "error",
     "traceback": [
      "\u001b[1;31m---------------------------------------------------------------------------\u001b[0m",
      "\u001b[1;31mAttributeError\u001b[0m                            Traceback (most recent call last)",
      "Input \u001b[1;32mIn [6]\u001b[0m, in \u001b[0;36m<cell line: 1>\u001b[1;34m()\u001b[0m\n\u001b[1;32m----> 1\u001b[0m \u001b[43mMap\u001b[49m\u001b[38;5;241;43m.\u001b[39;49m\u001b[43mclear\u001b[49m()\n",
      "\u001b[1;31mAttributeError\u001b[0m: 'Map' object has no attribute 'clear'"
     ]
    }
   ],
   "source": [
    "Map.clear()"
   ]
  }
 ],
 "metadata": {
  "kernelspec": {
   "display_name": "Python 3 (ipykernel)",
   "language": "python",
   "name": "python3"
  },
  "language_info": {
   "codemirror_mode": {
    "name": "ipython",
    "version": 3
   },
   "file_extension": ".py",
   "mimetype": "text/x-python",
   "name": "python",
   "nbconvert_exporter": "python",
   "pygments_lexer": "ipython3",
   "version": "3.9.1"
  }
 },
 "nbformat": 4,
 "nbformat_minor": 5
}
