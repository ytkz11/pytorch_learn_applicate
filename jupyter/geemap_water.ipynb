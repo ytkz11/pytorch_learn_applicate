{
 "cells": [
  {
   "cell_type": "code",
   "execution_count": 18,
   "id": "36f8c382",
   "metadata": {
    "scrolled": true
   },
   "outputs": [
    {
     "data": {
      "application/vnd.jupyter.widget-view+json": {
       "model_id": "93bfbf89f6c14b7c9ac9b33331b0126d",
       "version_major": 2,
       "version_minor": 0
      },
      "text/plain": [
       "Map(center=[40, -100], controls=(WidgetControl(options=['position', 'transparent_bg'], widget=HBox(children=(T…"
      ]
     },
     "metadata": {},
     "output_type": "display_data"
    }
   ],
   "source": [
    "import ee\n",
    "import geemap\n",
    "geemap.set_proxy(port = 56940)\n",
    "ee.Initialize()\n",
    "# Create a map centered at (lat, lon).\n",
    "Map = geemap.Map(center=[40, -100], zoom=4)\n",
    "\n",
    "collection = ee.ImageCollection('LANDSAT/LC08/C01/T1')\n",
    "\n",
    "point = ee.Geometry.Point(-122.262, 37.8719)\n",
    "start = ee.Date('2014-06-01')\n",
    "finish = ee.Date('2014-10-01')\n",
    "\n",
    "filteredCollection = ee.ImageCollection('LANDSAT/LC08/C01/T1') \\\n",
    "    .filterBounds(point) \\\n",
    "    .filterDate(start, finish) \\\n",
    "    .sort('CLOUD_COVER', True)\n",
    "\n",
    "first = filteredCollection.first()\n",
    "# Define visualization parameters in an object literal.\n",
    "vizParams = {'bands': ['B5', 'B4', 'B3'],\n",
    "             'min': 5000, 'max': 15000, 'gamma': 1.3}\n",
    "Map.addLayer(first, vizParams, 'Landsat 8 image')\n",
    "\n",
    "wi = first.expression('(1.75*g-r-1.08*nir)**2/(g+nir)**2',{\n",
    "    'b':first.select('B2'),\n",
    "  'g':first.select('B3'),\n",
    "  'r':first.select('B4'),\n",
    "  'nir':first.select('B5'),\n",
    "  'swir1':first.select('B6'),\n",
    "  'swir2':first.select('B7')\n",
    "})\n",
    "vizParams2 = {'min': 0, 'max': 1, 'gamma': 1.3}\n",
    "Map.addLayer(wi, vizParams2, 'wi')\n",
    "# Display the map.\n",
    "Map\n"
   ]
  },
  {
   "cell_type": "code",
   "execution_count": 23,
   "id": "dd298c83",
   "metadata": {},
   "outputs": [],
   "source": [
    "palette = ['000000', '0000FF', '00FF00', 'FF0000']\n",
    "wi_mask = wi.updateMask(wi.lt(0.02))\n",
    "Map.addLayer(wi_mask, {'palette ':palette}, 'wi_mask')"
   ]
  }
 ],
 "metadata": {
  "kernelspec": {
   "display_name": "Python 3 (ipykernel)",
   "language": "python",
   "name": "python3"
  },
  "language_info": {
   "codemirror_mode": {
    "name": "ipython",
    "version": 3
   },
   "file_extension": ".py",
   "mimetype": "text/x-python",
   "name": "python",
   "nbconvert_exporter": "python",
   "pygments_lexer": "ipython3",
   "version": "3.9.1"
  }
 },
 "nbformat": 4,
 "nbformat_minor": 5
}
