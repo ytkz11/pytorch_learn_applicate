{
 "cells": [
  {
   "cell_type": "code",
   "execution_count": 1,
   "id": "ca2d5ef4",
   "metadata": {},
   "outputs": [],
   "source": [
    "import torch\n",
    "from torch.autograd import Variable\n",
    "batch_n = 64\n",
    "hidden_layer = 100\n",
    "input_data = 1000\n",
    "output_data = 10"
   ]
  },
  {
   "cell_type": "code",
   "execution_count": 4,
   "id": "a1ee6e00",
   "metadata": {},
   "outputs": [],
   "source": [
    "class Model(torch.nn.Module):\n",
    "    def __init__(self):\n",
    "        super(Model, self).__init__()\n",
    "    def forward(self, input, w1,w2):\n",
    "        x = torch.mm(input, w1)\n",
    "        x = torch.clamp(x, min = 0)\n",
    "        x = torch.mm(x, w2)\n",
    "        return x\n",
    "    def backwark(self):\n",
    "        pass"
   ]
  },
  {
   "cell_type": "code",
   "execution_count": null,
   "id": "9e3279ff",
   "metadata": {},
   "outputs": [],
   "source": [
    "'''\n",
    "以上代码展示了一个比较常用的python类的构造方式：首先通过 class Model(torch.nn.Module)完成了类继承的操作\n",
    "之后分别是类的初始化，以及forward函数和backward函数\n",
    "forward函数实现了模型的前向传播中的矩阵运算\n",
    "backward实现了模型的后向传播中的自动梯度计算\n",
    "后向传播如果没有特别的需求，一般情况下不用进行调整\n",
    "\n",
    "'''"
   ]
  },
  {
   "cell_type": "code",
   "execution_count": 5,
   "id": "1fafd73a",
   "metadata": {},
   "outputs": [],
   "source": [
    "model = Model()"
   ]
  },
  {
   "cell_type": "code",
   "execution_count": 6,
   "id": "090a7a57",
   "metadata": {},
   "outputs": [],
   "source": [
    "x = Variable(torch.randn(batch_n, input_data),requires_grad = False)\n",
    "y = Variable(torch.randn(batch_n, output_data),requires_grad = False)\n",
    "\n",
    "w1 = Variable(torch.randn(input_data, hidden_layer),requires_grad = True)\n",
    "w2 = Variable(torch.randn(hidden_layer, output_data),requires_grad = True)\n",
    "epoch_n = 30\n",
    "learning_rate = 1e-6"
   ]
  },
  {
   "cell_type": "code",
   "execution_count": 8,
   "id": "e5f2f2c2",
   "metadata": {},
   "outputs": [
    {
     "name": "stdout",
     "output_type": "stream",
     "text": [
      "Epoch:0,Loss:28790436.0000\n",
      "Epoch:1,Loss:106723392.0000\n",
      "Epoch:2,Loss:104642664.0000\n",
      "Epoch:3,Loss:41191652.0000\n",
      "Epoch:4,Loss:5818094.0000\n",
      "Epoch:5,Loss:1906565.3750\n",
      "Epoch:6,Loss:1458104.8750\n",
      "Epoch:7,Loss:1200073.0000\n",
      "Epoch:8,Loss:1000631.3125\n",
      "Epoch:9,Loss:841787.9375\n",
      "Epoch:10,Loss:713816.6875\n",
      "Epoch:11,Loss:609578.6250\n",
      "Epoch:12,Loss:524092.5000\n",
      "Epoch:13,Loss:453304.1250\n",
      "Epoch:14,Loss:394017.2812\n",
      "Epoch:15,Loss:344076.6250\n",
      "Epoch:16,Loss:301797.7500\n",
      "Epoch:17,Loss:265818.2812\n",
      "Epoch:18,Loss:234963.0000\n",
      "Epoch:19,Loss:208382.4844\n",
      "Epoch:20,Loss:185365.8750\n",
      "Epoch:21,Loss:165373.9375\n",
      "Epoch:22,Loss:147918.3281\n",
      "Epoch:23,Loss:132650.2969\n",
      "Epoch:24,Loss:119220.9609\n",
      "Epoch:25,Loss:107376.0781\n",
      "Epoch:26,Loss:96889.9062\n",
      "Epoch:27,Loss:87595.2969\n",
      "Epoch:28,Loss:79327.4609\n",
      "Epoch:29,Loss:71948.6484\n"
     ]
    }
   ],
   "source": [
    "for epoch in range(epoch_n):\n",
    "    y_pred = model(x,w1,w2)\n",
    "    loss = (y_pred - y).pow(2).sum()\n",
    "    print(\"Epoch:{},Loss:{:.4f}\".format(epoch, loss.item()))\n",
    "    loss.backward()\n",
    "        \n",
    "    w1.data-= learning_rate*w1.grad.data\n",
    "    w2.data-= learning_rate*w2.grad.data\n",
    "    \n",
    "    w1.grad.data.zero_()\n",
    "    w2.grad.data.zero_()"
   ]
  },
  {
   "cell_type": "code",
   "execution_count": null,
   "id": "0080d4df",
   "metadata": {},
   "outputs": [],
   "source": []
  },
  {
   "cell_type": "code",
   "execution_count": null,
   "id": "21d7a755",
   "metadata": {},
   "outputs": [],
   "source": []
  }
 ],
 "metadata": {
  "kernelspec": {
   "display_name": "Python 3 (ipykernel)",
   "language": "python",
   "name": "python3"
  },
  "language_info": {
   "codemirror_mode": {
    "name": "ipython",
    "version": 3
   },
   "file_extension": ".py",
   "mimetype": "text/x-python",
   "name": "python",
   "nbconvert_exporter": "python",
   "pygments_lexer": "ipython3",
   "version": "3.9.1"
  }
 },
 "nbformat": 4,
 "nbformat_minor": 5
}
