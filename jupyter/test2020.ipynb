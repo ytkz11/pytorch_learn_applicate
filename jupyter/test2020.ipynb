{
 "cells": [
  {
   "cell_type": "code",
   "execution_count": 30,
   "id": "bd123abd",
   "metadata": {},
   "outputs": [],
   "source": [
    "import ee\n",
    "import geemap\n",
    "geemap.set_proxy(port = 56940)\n",
    "# ee.Authenticate()\n",
    "ee.Initialize()\n",
    "# Create a map centered at (lat, lon).\n",
    "Map = geemap.Map(center=[40, -100], zoom=4)\n"
   ]
  },
  {
   "cell_type": "code",
   "execution_count": 41,
   "id": "525a5b3e",
   "metadata": {},
   "outputs": [],
   "source": [
    "def year_water_mapping(threshold,s=2014,e = 2022,):\n",
    "    roi = ee.Geometry.Polygon( [ [   [180, 90],\n",
    "                                    [180, -90],\n",
    "                                    [-180 , -90] ,\n",
    "                                    [-180, 90],\n",
    "                            ]],None,False,)\n",
    "    Map1 = geemap.Map(center=[40, -100], zoom=4)\n",
    "    for i in range(s,e):\n",
    "        print(i)\n",
    "        start_ = str(i)+'-01-01'\n",
    "        end_ = str(i+1)+'-01-01'\n",
    "        start = ee.Date(start_)\n",
    "        finish = ee.Date(end_)\n",
    "        filteredCollection = ee.ImageCollection('LANDSAT/LC08/C01/T1') \\\n",
    "    .filterBounds(roi) \\\n",
    "    .filterDate(start, finish) \\\n",
    "    .filter(ee.Filter.lt(\"CLOUD_COVER\",20))\\\n",
    " .sort('CLOUD_COVER', True)\n",
    "   \n",
    "\n",
    "        mosaic = filteredCollection.mosaic()\n",
    "\n",
    "        #Map = geemap.Map(center=[30, 90], zoom=5)\n",
    "        vizParams = {'bands': ['B5', 'B4', 'B3'],\n",
    "                     'min': 5000, 'max': 15000, 'gamma': 1.3}\n",
    "        first = mosaic\n",
    "#wi = first.expression('(3*g-1*b+2*r-5*nir-swir2)/(3*g+1*b+2*r+5*nir+swir2)',{\n",
    "        wi = first.expression('(1*g-0.35*b-0.35*r-1.1*nir)**2/(1*g+0.35*b+0.35*r+1.1*nir)**2',{\n",
    "            'b':first.select('B2'),\n",
    "          'g':first.select('B3'),\n",
    "          'r':first.select('B4'),\n",
    "          'nir':first.select('B5'),\n",
    "          'swir1':first.select('B6'),\n",
    "          'swir2':first.select('B7')\n",
    "        })\n",
    "        vizParams2 = {'min': -1, 'max': 1, 'gamma': 1.3}\n",
    "        #vizParams2 = {}\n",
    "        winame = 'wi ' +str(i)\n",
    "        Map1.addLayer(wi, vizParams2, winame,0)\n",
    "        L8name = 'Landsat 8 image ' +str(i)\n",
    "        Map1.addLayer(mosaic, vizParams,L8name,0)\n",
    "        palette = ['42C8F0','29D69F','3228D6','DC23EB','DC23FA','3758A9']\n",
    "        wi_mask = wi.updateMask(wi.lt(threshold))  #lt\n",
    "        maskname = 'wi_mask ' + str(i)\n",
    "        import random\n",
    "        m =random.randint(0,5)\n",
    "        print(palette[m])\n",
    "        Map1.addLayer(wi_mask, {'min': 0, 'max': 1,'palette':palette[m]}, maskname,1)\n",
    "#     Map1.addLayer(roi,{}, 'roi')\n",
    "    return Map1"
   ]
  },
  {
   "cell_type": "code",
   "execution_count": 42,
   "id": "28539073",
   "metadata": {},
   "outputs": [
    {
     "name": "stdout",
     "output_type": "stream",
     "text": [
      "2017\n",
      "29D69F\n"
     ]
    }
   ],
   "source": [
    "Map1 = year_water_mapping(0.075,2017,2018)\n",
    "\n",
    "# roi = ee.Geometry.Polygon( [ [   [180, 90],\n",
    "#                                     [180, -90],\n",
    "#                                     [-180 , -90] ,\n",
    "#                                     [-180, 90],\n",
    "#                             ]],None,False,)\n",
    "# Map1.addLayer(roi,{}, 'roi')"
   ]
  },
  {
   "cell_type": "code",
   "execution_count": 43,
   "id": "30986f78",
   "metadata": {},
   "outputs": [
    {
     "data": {
      "application/vnd.jupyter.widget-view+json": {
       "model_id": "76663a6001e540478a200f4e789ca903",
       "version_major": 2,
       "version_minor": 0
      },
      "text/plain": [
       "Map(center=[40, -100], controls=(WidgetControl(options=['position', 'transparent_bg'], widget=HBox(children=(T…"
      ]
     },
     "metadata": {},
     "output_type": "display_data"
    }
   ],
   "source": [
    "Map1"
   ]
  },
  {
   "cell_type": "code",
   "execution_count": null,
   "id": "fba27c98",
   "metadata": {},
   "outputs": [],
   "source": []
  }
 ],
 "metadata": {
  "kernelspec": {
   "display_name": "Python 3 (ipykernel)",
   "language": "python",
   "name": "python3"
  },
  "language_info": {
   "codemirror_mode": {
    "name": "ipython",
    "version": 3
   },
   "file_extension": ".py",
   "mimetype": "text/x-python",
   "name": "python",
   "nbconvert_exporter": "python",
   "pygments_lexer": "ipython3",
   "version": "3.9.1"
  }
 },
 "nbformat": 4,
 "nbformat_minor": 5
}
